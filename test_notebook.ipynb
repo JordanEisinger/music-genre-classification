pip install librosa

import librosa

audio_path = '/Users/jordaneisinger/Desktop/test.wav'
x , sr  = librosa.load(audio_path)

print(type(x), type(sr))
# <class 'numpy.ndarray'> <class 'int'>

print(x.shape, sr)
# (396688,) 22050

import IPython.display as ipd
ipd.Audio(audio_path, rate=sr, autoplay=True)
